{
  "cells": [
    {
      "cell_type": "markdown",
      "id": "ca468536-d0cc-4286-91d8-14eace209778",
      "metadata": {},
      "source": [
        "## Training an IRT model with py-irt"
      ]
    },
    {
      "cell_type": "markdown",
      "id": "5d22bb5c-9988-4238-8f29-f0ed23430d38",
      "metadata": {},
      "source": [
        "This document walks through using the py-irt package."
      ]
    },
    {
      "cell_type": "markdown",
      "id": "5a2c55aa-ed00-4bad-b197-2abc7f09d731",
      "metadata": {},
      "source": [
        "First, you need to make sure that py-irt is installed."
      ]
    },
    {
      "cell_type": "code",
      "execution_count": 1,
      "id": "7187c222-99f0-4332-b606-d911a3649274",
      "metadata": {},
      "outputs": [
        {
          "name": "stdout",
          "output_type": "stream",
          "text": [
            "Collecting py-irt\n",
            "  Using cached py_irt-0.4.4-py3-none-any.whl (26 kB)\n",
            "Collecting scikit-learn<0.25.0,>=0.24.2\n",
            "  Downloading scikit_learn-0.24.2-cp39-cp39-manylinux2010_x86_64.whl (23.8 MB)\n",
            "\u001b[K     |████████████████████████████████| 23.8 MB 18.0 MB/s eta 0:00:01\n",
            "\u001b[?25hCollecting typer<0.4.0,>=0.3.2\n",
            "  Using cached typer-0.3.2-py3-none-any.whl (21 kB)\n",
            "Requirement already satisfied: pandas<2.0,>=1.1 in /home/lalor/miniconda3/envs/pedro/lib/python3.9/site-packages (from py-irt) (1.4.2)\n",
            "Collecting toml<0.11.0,>=0.10.2\n",
            "  Using cached toml-0.10.2-py2.py3-none-any.whl (16 kB)\n",
            "Requirement already satisfied: numpy<2.0.0,>=1.20.3 in /home/lalor/miniconda3/envs/pedro/lib/python3.9/site-packages (from py-irt) (1.22.3)\n",
            "Collecting pydantic<2.0.0,>=1.8.2\n",
            "  Downloading pydantic-1.9.1-cp39-cp39-manylinux_2_17_x86_64.manylinux2014_x86_64.whl (12.4 MB)\n",
            "\u001b[K     |████████████████████████████████| 12.4 MB 9.8 MB/s eta 0:00:01\n",
            "\u001b[?25hCollecting rich<10.0.0,>=9.3.0\n",
            "  Using cached rich-9.13.0-py3-none-any.whl (197 kB)\n",
            "Collecting pyro-ppl<2.0.0,>=1.6.0\n",
            "  Using cached pyro_ppl-1.8.1-py3-none-any.whl (718 kB)\n",
            "Requirement already satisfied: scipy<2.0.0,>=1.6.3 in /home/lalor/miniconda3/envs/pedro/lib/python3.9/site-packages (from py-irt) (1.7.3)\n",
            "Requirement already satisfied: python-dateutil>=2.8.1 in /home/lalor/miniconda3/envs/pedro/lib/python3.9/site-packages (from pandas<2.0,>=1.1->py-irt) (2.8.2)\n",
            "Requirement already satisfied: pytz>=2020.1 in /home/lalor/miniconda3/envs/pedro/lib/python3.9/site-packages (from pandas<2.0,>=1.1->py-irt) (2021.3)\n",
            "Requirement already satisfied: typing-extensions>=3.7.4.3 in /home/lalor/miniconda3/envs/pedro/lib/python3.9/site-packages (from pydantic<2.0.0,>=1.8.2->py-irt) (4.2.0)\n",
            "Collecting opt-einsum>=2.3.2\n",
            "  Using cached opt_einsum-3.3.0-py3-none-any.whl (65 kB)\n",
            "Collecting tqdm>=4.36\n",
            "  Using cached tqdm-4.64.0-py2.py3-none-any.whl (78 kB)\n",
            "Collecting pyro-api>=0.1.1\n",
            "  Using cached pyro_api-0.1.2-py3-none-any.whl (11 kB)\n",
            "Collecting torch>=1.11.0\n",
            "  Downloading torch-1.11.0-cp39-cp39-manylinux1_x86_64.whl (750.6 MB)\n",
            "\u001b[K     |████████████████████████████████| 750.6 MB 17 kB/s s eta 0:00:01     |████████████▏                   | 286.6 MB 8.2 MB/s eta 0:00:57     |███████████████████▊            | 462.4 MB 11.4 MB/s eta 0:00:26     |█████████████████████           | 494.0 MB 11.3 MB/s eta 0:00:23\n",
            "\u001b[?25hRequirement already satisfied: six>=1.5 in /home/lalor/miniconda3/envs/pedro/lib/python3.9/site-packages (from python-dateutil>=2.8.1->pandas<2.0,>=1.1->py-irt) (1.16.0)\n",
            "Collecting commonmark<0.10.0,>=0.9.0\n",
            "  Using cached commonmark-0.9.1-py2.py3-none-any.whl (51 kB)\n",
            "Collecting colorama<0.5.0,>=0.4.0\n",
            "  Downloading colorama-0.4.5-py2.py3-none-any.whl (16 kB)\n",
            "Requirement already satisfied: pygments<3.0.0,>=2.6.0 in /home/lalor/miniconda3/envs/pedro/lib/python3.9/site-packages (from rich<10.0.0,>=9.3.0->py-irt) (2.12.0)\n",
            "Collecting typing-extensions>=3.7.4.3\n",
            "  Using cached typing_extensions-3.10.0.2-py3-none-any.whl (26 kB)\n",
            "Collecting threadpoolctl>=2.0.0\n",
            "  Using cached threadpoolctl-3.1.0-py3-none-any.whl (14 kB)\n",
            "Collecting joblib>=0.11\n",
            "  Using cached joblib-1.1.0-py2.py3-none-any.whl (306 kB)\n",
            "Collecting click<7.2.0,>=7.1.1\n",
            "  Using cached click-7.1.2-py2.py3-none-any.whl (82 kB)\n",
            "Installing collected packages: typing-extensions, tqdm, torch, threadpoolctl, pyro-api, opt-einsum, joblib, commonmark, colorama, click, typer, toml, scikit-learn, rich, pyro-ppl, pydantic, py-irt\n",
            "  Attempting uninstall: typing-extensions\n",
            "    Found existing installation: typing-extensions 4.2.0\n",
            "    Uninstalling typing-extensions-4.2.0:\n",
            "      Successfully uninstalled typing-extensions-4.2.0\n",
            "Successfully installed click-7.1.2 colorama-0.4.5 commonmark-0.9.1 joblib-1.1.0 opt-einsum-3.3.0 py-irt-0.4.4 pydantic-1.9.1 pyro-api-0.1.2 pyro-ppl-1.8.1 rich-9.13.0 scikit-learn-0.24.2 threadpoolctl-3.1.0 toml-0.10.2 torch-1.11.0 tqdm-4.64.0 typer-0.3.2 typing-extensions-3.10.0.2\n"
          ]
        }
      ],
      "source": [
        "!pip install py-irt"
      ]
    },
    {
      "cell_type": "markdown",
      "id": "b5a79e72-1dcf-4ccd-a3f1-55f3ea5a7684",
      "metadata": {},
      "source": [
        "Then, download the sample data file, stored as a jsonlines document."
      ]
    },
    {
      "cell_type": "code",
      "execution_count": 2,
      "id": "43c0e0d0-2024-4ccf-81cd-8bc7453d35f9",
      "metadata": {},
      "outputs": [
        {
          "name": "stdout",
          "output_type": "stream",
          "text": [
            "--2022-06-20 14:41:44--  https://raw.githubusercontent.com/nd-ball/py-irt/d2a27dd55a84459782a5514e752ee48d9a63626e/test_fixtures/minitest.jsonlines\n",
            "Resolving raw.githubusercontent.com (raw.githubusercontent.com)... 185.199.109.133, 185.199.110.133, 185.199.111.133, ...\n",
            "Connecting to raw.githubusercontent.com (raw.githubusercontent.com)|185.199.109.133|:443... connected.\n",
            "HTTP request sent, awaiting response... 200 OK\n",
            "Length: 311 [text/plain]\n",
            "Saving to: ‘minitest.jsonlines’\n",
            "\n",
            "minitest.jsonlines  100%[===================>]     311  --.-KB/s    in 0s      \n",
            "\n",
            "2022-06-20 14:41:46 (6.49 MB/s) - ‘minitest.jsonlines’ saved [311/311]\n",
            "\n"
          ]
        }
      ],
      "source": [
        "!wget https://raw.githubusercontent.com/nd-ball/py-irt/d2a27dd55a84459782a5514e752ee48d9a63626e/test_fixtures/minitest.jsonlines"
      ]
    },
    {
      "cell_type": "code",
      "execution_count": 3,
      "id": "47ae4654-155c-4862-b90a-0b02ee860473",
      "metadata": {},
      "outputs": [
        {
          "name": "stdout",
          "output_type": "stream",
          "text": [
            "{\"subject_id\": \"pedro\",    \"responses\": {\"q1\": 1, \"q2\": 0, \"q3\": 1, \"q4\": 0}}\n",
            "{\"subject_id\": \"pinguino\", \"responses\": {\"q1\": 1, \"q2\": 1, \"q3\": 0, \"q4\": 0}}\n",
            "{\"subject_id\": \"ken\",      \"responses\": {\"q1\": 1, \"q2\": 1, \"q3\": 1, \"q4\": 1}}\n",
            "{\"subject_id\": \"burt\",     \"responses\": {\"q1\": 0, \"q2\": 0, \"q3\": 0, \"q4\": 0}}"
          ]
        }
      ],
      "source": [
        "!cat minitest.jsonlines"
      ]
    },
    {
      "cell_type": "markdown",
      "id": "c19f2ed9-a335-40bc-b004-0dc54a944b31",
      "metadata": {},
      "source": [
        "We'll first look at the options available to us in the py-irt package for the **train** command.\n",
        "In this case, because the dataset is so small, we'll use a smaller learning rate and train for a smaller number of epochs than the defaults specify."
      ]
    },
    {
      "cell_type": "code",
      "execution_count": 5,
      "id": "5f66cd36-0675-475f-9be7-b46c7502cb4a",
      "metadata": {},
      "outputs": [
        {
          "name": "stdout",
          "output_type": "stream",
          "text": [
            "Usage: py-irt train [OPTIONS] MODEL_TYPE DATA_PATH OUTPUT_DIR\n",
            "\n",
            "Arguments:\n",
            "  MODEL_TYPE  [required]\n",
            "  DATA_PATH   [required]\n",
            "  OUTPUT_DIR  [required]\n",
            "\n",
            "Options:\n",
            "  --epochs INTEGER\n",
            "  --priors TEXT\n",
            "  --dims INTEGER\n",
            "  --lr FLOAT\n",
            "  --lr-decay FLOAT\n",
            "  --device TEXT        [default: cuda]\n",
            "  --initializers TEXT\n",
            "  --config-path TEXT\n",
            "  --dropout FLOAT      [default: 0.5]\n",
            "  --hidden INTEGER     [default: 100]\n",
            "  --help               Show this message and exit.\n"
          ]
        }
      ],
      "source": [
        "!py-irt train --help"
      ]
    },
    {
      "cell_type": "markdown",
      "id": "be33746f-a4f5-488e-9269-a313a8e49697",
      "metadata": {},
      "source": [
        "We then run the py-irt package to fit a 1PL model and save it to a specified output directory."
      ]
    },
    {
      "cell_type": "code",
      "execution_count": 6,
      "id": "33277773-5b11-4ef4-8626-a5b1e1336e03",
      "metadata": {},
      "outputs": [
        {
          "name": "stdout",
          "output_type": "stream",
          "text": [
            "\u001b[2;36m[14:43:39]\u001b[0m\u001b[2;36m \u001b[0mconfig: \u001b[33mmodel_type\u001b[0m=\u001b[32m'1pl'\u001b[0m \u001b[33mepochs\u001b[0m=\u001b[1;34m100\u001b[0m \u001b[33mpriors\u001b[0m=\u001b[3;35mNone\u001b[0m             \u001b]8;id=1655750619.4997613-658926;file:///home/lalor/miniconda3/envs/pedro/lib/python3.9/site-packages/py_irt/cli.py\u001b\\\u001b[2mcli.py\u001b[0m\u001b]8;;\u001b\\\u001b[2m:66\u001b[0m\n",
            "           \u001b[33minitializers\u001b[0m=\u001b[1m[\u001b[0m\u001b[1m]\u001b[0m \u001b[33mdims\u001b[0m=\u001b[3;35mNone\u001b[0m \u001b[33mlr\u001b[0m=\u001b[1;34m0\u001b[0m\u001b[1;34m.02\u001b[0m \u001b[33mlr_decay\u001b[0m=\u001b[1;34m0\u001b[0m\u001b[1;34m.9999\u001b[0m                    \n",
            "           \u001b[33mdropout\u001b[0m=\u001b[1;34m0\u001b[0m\u001b[1;34m.5\u001b[0m \u001b[33mhidden\u001b[0m=\u001b[1;34m100\u001b[0m \u001b[33mvocab_size\u001b[0m=\u001b[3;35mNone\u001b[0m                               \n",
            "\u001b[2;36m          \u001b[0m\u001b[2;36m \u001b[0mdata_path: minitest.jsonlines                               \u001b]8;id=1655750619.5006726-866513;file:///home/lalor/miniconda3/envs/pedro/lib/python3.9/site-packages/py_irt/cli.py\u001b\\\u001b[2mcli.py\u001b[0m\u001b]8;;\u001b\\\u001b[2m:68\u001b[0m\n",
            "\u001b[2;36m          \u001b[0m\u001b[2;36m \u001b[0moutput directory: test-1pl/                                 \u001b]8;id=1655750619.5016015-82202;file:///home/lalor/miniconda3/envs/pedro/lib/python3.9/site-packages/py_irt/cli.py\u001b\\\u001b[2mcli.py\u001b[0m\u001b]8;;\u001b\\\u001b[2m:69\u001b[0m\n",
            "False\n",
            "None\n",
            "\u001b[2;36m          \u001b[0m\u001b[2;36m \u001b[0mTraining Model\u001b[33m...\u001b[0m                                           \u001b]8;id=1655750619.502791-293357;file:///home/lalor/miniconda3/envs/pedro/lib/python3.9/site-packages/py_irt/cli.py\u001b\\\u001b[2mcli.py\u001b[0m\u001b]8;;\u001b\\\u001b[2m:73\u001b[0m\n",
            "{'device': 'cuda', 'num_items': 4, 'num_subjects': 4}\n",
            "\u001b[2;36m[14:43:39]\u001b[0m\u001b[2;36m \u001b[0mParsed Model Args: \u001b[1m{\u001b[0m\u001b[32m'device'\u001b[0m: \u001b[32m'cuda'\u001b[0m, \u001b[32m'num_items'\u001b[0m: \u001b[1;34m4\u001b[0m,  \u001b]8;id=1655750619.5042784-179859;file:///home/lalor/miniconda3/envs/pedro/lib/python3.9/site-packages/py_irt/training.py\u001b\\\u001b[2mtraining.py\u001b[0m\u001b]8;;\u001b\\\u001b[2m:124\u001b[0m\n",
            "           \u001b[32m'num_subjects'\u001b[0m: \u001b[1;34m4\u001b[0m, \u001b[32m'priors'\u001b[0m: \u001b[32m'vague'\u001b[0m, \u001b[32m'dropout'\u001b[0m: \u001b[1;34m0.5\u001b[0m,                \n",
            "           \u001b[32m'hidden'\u001b[0m: \u001b[1;34m100\u001b[0m, \u001b[32m'vocab_size'\u001b[0m: \u001b[3;35mNone\u001b[0m\u001b[1m}\u001b[0m                                   \n",
            "torch.Size([16]) torch.Size([16])\n",
            "\u001b[?25l┏━━━━━━━┳━━━━━━┳━━━━━━━━━━━┳━━━━━━━━┓\n",
            "┃\u001b[1m \u001b[0m\u001b[1mEpoch\u001b[0m\u001b[1m \u001b[0m┃\u001b[1m \u001b[0m\u001b[1mLoss\u001b[0m\u001b[1m \u001b[0m┃\u001b[1m \u001b[0m\u001b[1mBest Loss\u001b[0m\u001b[1m \u001b[0m┃\u001b[1m \u001b[0m\u001b[1mNew LR\u001b[0m\u001b[1m \u001b[0m┃\n",
            "┡━━━━━━━╇━━━━━━╇━━━━━━━━━━━╇━━━━━━━━┩\n",
            "\u001b[2K\u001b[1A\u001b[2K\u001b[1A\u001b[2K\u001b[1A\u001b[2KTraining Pyro IRT Model for \u001b[1;34m100\u001b[0m epochs\n",
            "┏━━━━━━━┳━━━━━━┳━━━━━━━━━━━┳━━━━━━━━┓\n",
            "┃\u001b[1m \u001b[0m\u001b[1mEpoch\u001b[0m\u001b[1m \u001b[0m┃\u001b[1m \u001b[0m\u001b[1mLoss\u001b[0m\u001b[1m \u001b[0m┃\u001b[1m \u001b[0m\u001b[1mBest Loss\u001b[0m\u001b[1m \u001b[0m┃\u001b[1m \u001b[0m\u001b[1mNew LR\u001b[0m\u001b[1m \u001b[0m┃\n",
            "┡━━━━━━━╇━━━━━━╇━━━━━━━━━━━╇━━━━━━━━┩\n",
            "\u001b[2K\u001b[1A\u001b[2K\u001b[1A\u001b[2K\u001b[1A\u001b[2K┏━━━━━━━┳━━━━━━━━━━━┳━━━━━━━━━━━┳━━━━━━━━┓\n",
            "┃\u001b[1m \u001b[0m\u001b[1mEpoch\u001b[0m\u001b[1m \u001b[0m┃\u001b[1m \u001b[0m\u001b[1mLoss     \u001b[0m\u001b[1m \u001b[0m┃\u001b[1m \u001b[0m\u001b[1mBest Loss\u001b[0m\u001b[1m \u001b[0m┃\u001b[1m \u001b[0m\u001b[1mNew LR\u001b[0m\u001b[1m \u001b[0m┃\n",
            "┡━━━━━━━╇━━━━━━━━━━━╇━━━━━━━━━━━╇━━━━━━━━┩\n",
            "│ 1     │ 2923.6484 │ 2923.6484 │ 0.0200 │\n",
            "\u001b[2K\u001b[1A\u001b[2K\u001b[1A\u001b[2K\u001b[1A\u001b[2K\u001b[1A\u001b[2K┏━━━━━━━┳━━━━━━━━━━━┳━━━━━━━━━━━┳━━━━━━━━┓\n",
            "┃\u001b[1m \u001b[0m\u001b[1mEpoch\u001b[0m\u001b[1m \u001b[0m┃\u001b[1m \u001b[0m\u001b[1mLoss     \u001b[0m\u001b[1m \u001b[0m┃\u001b[1m \u001b[0m\u001b[1mBest Loss\u001b[0m\u001b[1m \u001b[0m┃\u001b[1m \u001b[0m\u001b[1mNew LR\u001b[0m\u001b[1m \u001b[0m┃\n",
            "┡━━━━━━━╇━━━━━━━━━━━╇━━━━━━━━━━━╇━━━━━━━━┩\n",
            "│ 1     │ 2923.6484 │ 2923.6484 │ 0.0200 │\n",
            "│ 100   │ 1704.6332 │ 898.9155  │ 0.0198 │\n",
            "└───────┴───────────┴───────────┴────────┘\n",
            "\u001b[?25h\u001b[2;36m          \u001b[0m\u001b[2;36m \u001b[0mTrain time: \u001b[1;34m0.3079338073730469\u001b[0m                              \u001b]8;id=1655750619.810707-208158;file:///home/lalor/miniconda3/envs/pedro/lib/python3.9/site-packages/py_irt/cli.py\u001b\\\u001b[2mcli.py\u001b[0m\u001b]8;;\u001b\\\u001b[2m:79\u001b[0m\n"
          ]
        }
      ],
      "source": [
        "!py-irt train 1pl minitest.jsonlines test-1pl/ --lr 0.02 --epochs 100"
      ]
    },
    {
      "cell_type": "markdown",
      "id": "6daf2676-d238-43de-b3ff-f95e881d882e",
      "metadata": {},
      "source": [
        "We can inspect the best fitting parameters and the parameters from the final training epoch.\n",
        "To make it look nice we can use jq."
      ]
    },
    {
      "cell_type": "code",
      "execution_count": 8,
      "id": "22900224-10e7-4286-bfde-1a600ececfce",
      "metadata": {},
      "outputs": [
        {
          "name": "stdout",
          "output_type": "stream",
          "text": [
            "Collecting jq\n",
            "  Downloading jq-1.2.2-cp39-cp39-manylinux_2_17_x86_64.manylinux2014_x86_64.whl (591 kB)\n",
            "\u001b[K     |████████████████████████████████| 591 kB 123 kB/s eta 0:00:01\n",
            "\u001b[?25hInstalling collected packages: jq\n",
            "Successfully installed jq-1.2.2\n"
          ]
        }
      ],
      "source": [
        "!pip install jq"
      ]
    },
    {
      "cell_type": "code",
      "execution_count": 9,
      "id": "d5f112a7-1690-4a2e-9c84-e184dbde0949",
      "metadata": {},
      "outputs": [
        {
          "name": "stdout",
          "output_type": "stream",
          "text": [
            "\u001b[1;39m{\n",
            "  \u001b[0m\u001b[34;1m\"ability\"\u001b[0m\u001b[1;39m: \u001b[0m\u001b[1;39m[\n",
            "    \u001b[0;39m0.202667236328125\u001b[0m\u001b[1;39m,\n",
            "    \u001b[0;39m-0.95220547914505\u001b[0m\u001b[1;39m,\n",
            "    \u001b[0;39m0.9865020513534546\u001b[0m\u001b[1;39m,\n",
            "    \u001b[0;39m0.21425879001617432\u001b[0m\u001b[1;39m\n",
            "  \u001b[1;39m]\u001b[0m\u001b[1;39m,\n",
            "  \u001b[0m\u001b[34;1m\"diff\"\u001b[0m\u001b[1;39m: \u001b[0m\u001b[1;39m[\n",
            "    \u001b[0;39m0.5277286767959595\u001b[0m\u001b[1;39m,\n",
            "    \u001b[0;39m-0.19620391726493835\u001b[0m\u001b[1;39m,\n",
            "    \u001b[0;39m-0.7283022403717041\u001b[0m\u001b[1;39m,\n",
            "    \u001b[0;39m-0.011020521633327007\u001b[0m\u001b[1;39m\n",
            "  \u001b[1;39m]\u001b[0m\u001b[1;39m,\n",
            "  \u001b[0m\u001b[34;1m\"irt_model\"\u001b[0m\u001b[1;39m: \u001b[0m\u001b[0;32m\"1pl\"\u001b[0m\u001b[1;39m,\n",
            "  \u001b[0m\u001b[34;1m\"item_ids\"\u001b[0m\u001b[1;39m: \u001b[0m\u001b[1;39m{\n",
            "    \u001b[0m\u001b[34;1m\"0\"\u001b[0m\u001b[1;39m: \u001b[0m\u001b[0;32m\"q4\"\u001b[0m\u001b[1;39m,\n",
            "    \u001b[0m\u001b[34;1m\"1\"\u001b[0m\u001b[1;39m: \u001b[0m\u001b[0;32m\"q3\"\u001b[0m\u001b[1;39m,\n",
            "    \u001b[0m\u001b[34;1m\"2\"\u001b[0m\u001b[1;39m: \u001b[0m\u001b[0;32m\"q1\"\u001b[0m\u001b[1;39m,\n",
            "    \u001b[0m\u001b[34;1m\"3\"\u001b[0m\u001b[1;39m: \u001b[0m\u001b[0;32m\"q2\"\u001b[0m\u001b[1;39m\n",
            "  \u001b[1;39m}\u001b[0m\u001b[1;39m,\n",
            "  \u001b[0m\u001b[34;1m\"subject_ids\"\u001b[0m\u001b[1;39m: \u001b[0m\u001b[1;39m{\n",
            "    \u001b[0m\u001b[34;1m\"0\"\u001b[0m\u001b[1;39m: \u001b[0m\u001b[0;32m\"pedro\"\u001b[0m\u001b[1;39m,\n",
            "    \u001b[0m\u001b[34;1m\"1\"\u001b[0m\u001b[1;39m: \u001b[0m\u001b[0;32m\"burt\"\u001b[0m\u001b[1;39m,\n",
            "    \u001b[0m\u001b[34;1m\"2\"\u001b[0m\u001b[1;39m: \u001b[0m\u001b[0;32m\"ken\"\u001b[0m\u001b[1;39m,\n",
            "    \u001b[0m\u001b[34;1m\"3\"\u001b[0m\u001b[1;39m: \u001b[0m\u001b[0;32m\"pinguino\"\u001b[0m\u001b[1;39m\n",
            "  \u001b[1;39m}\u001b[0m\u001b[1;39m\n",
            "\u001b[1;39m}\u001b[0m\n"
          ]
        }
      ],
      "source": [
        "!jq . test-1pl/best_parameters.json"
      ]
    },
    {
      "cell_type": "code",
      "execution_count": 11,
      "id": "c97f68aa-86cb-4934-a8a5-92013b6174a2",
      "metadata": {},
      "outputs": [
        {
          "name": "stdout",
          "output_type": "stream",
          "text": [
            "\u001b[1;39m{\n",
            "  \u001b[0m\u001b[34;1m\"ability\"\u001b[0m\u001b[1;39m: \u001b[0m\u001b[1;39m[\n",
            "    \u001b[0;39m0.22013945877552032\u001b[0m\u001b[1;39m,\n",
            "    \u001b[0;39m-1.2920401096343994\u001b[0m\u001b[1;39m,\n",
            "    \u001b[0;39m1.3400511741638184\u001b[0m\u001b[1;39m,\n",
            "    \u001b[0;39m0.042264051735401154\u001b[0m\u001b[1;39m\n",
            "  \u001b[1;39m]\u001b[0m\u001b[1;39m,\n",
            "  \u001b[0m\u001b[34;1m\"diff\"\u001b[0m\u001b[1;39m: \u001b[0m\u001b[1;39m[\n",
            "    \u001b[0;39m0.8419020771980286\u001b[0m\u001b[1;39m,\n",
            "    \u001b[0;39m-0.23540474474430084\u001b[0m\u001b[1;39m,\n",
            "    \u001b[0;39m-1.0303592681884766\u001b[0m\u001b[1;39m,\n",
            "    \u001b[0;39m-0.04312527924776077\u001b[0m\u001b[1;39m\n",
            "  \u001b[1;39m]\u001b[0m\u001b[1;39m,\n",
            "  \u001b[0m\u001b[34;1m\"irt_model\"\u001b[0m\u001b[1;39m: \u001b[0m\u001b[0;32m\"1pl\"\u001b[0m\u001b[1;39m,\n",
            "  \u001b[0m\u001b[34;1m\"item_ids\"\u001b[0m\u001b[1;39m: \u001b[0m\u001b[1;39m{\n",
            "    \u001b[0m\u001b[34;1m\"0\"\u001b[0m\u001b[1;39m: \u001b[0m\u001b[0;32m\"q4\"\u001b[0m\u001b[1;39m,\n",
            "    \u001b[0m\u001b[34;1m\"1\"\u001b[0m\u001b[1;39m: \u001b[0m\u001b[0;32m\"q3\"\u001b[0m\u001b[1;39m,\n",
            "    \u001b[0m\u001b[34;1m\"2\"\u001b[0m\u001b[1;39m: \u001b[0m\u001b[0;32m\"q1\"\u001b[0m\u001b[1;39m,\n",
            "    \u001b[0m\u001b[34;1m\"3\"\u001b[0m\u001b[1;39m: \u001b[0m\u001b[0;32m\"q2\"\u001b[0m\u001b[1;39m\n",
            "  \u001b[1;39m}\u001b[0m\u001b[1;39m,\n",
            "  \u001b[0m\u001b[34;1m\"subject_ids\"\u001b[0m\u001b[1;39m: \u001b[0m\u001b[1;39m{\n",
            "    \u001b[0m\u001b[34;1m\"0\"\u001b[0m\u001b[1;39m: \u001b[0m\u001b[0;32m\"pedro\"\u001b[0m\u001b[1;39m,\n",
            "    \u001b[0m\u001b[34;1m\"1\"\u001b[0m\u001b[1;39m: \u001b[0m\u001b[0;32m\"burt\"\u001b[0m\u001b[1;39m,\n",
            "    \u001b[0m\u001b[34;1m\"2\"\u001b[0m\u001b[1;39m: \u001b[0m\u001b[0;32m\"ken\"\u001b[0m\u001b[1;39m,\n",
            "    \u001b[0m\u001b[34;1m\"3\"\u001b[0m\u001b[1;39m: \u001b[0m\u001b[0;32m\"pinguino\"\u001b[0m\u001b[1;39m\n",
            "  \u001b[1;39m}\u001b[0m\u001b[1;39m\n",
            "\u001b[1;39m}\u001b[0m\n"
          ]
        }
      ],
      "source": [
        "!jq . test-1pl/parameters.json"
      ]
    }
  ],
  "metadata": {
    "kernelspec": {
      "display_name": "Python 3 (ipykernel)",
      "language": "python",
      "name": "python3"
    },
    "language_info": {
      "codemirror_mode": {
        "name": "ipython",
        "version": 3
      },
      "file_extension": ".py",
      "mimetype": "text/x-python",
      "name": "python",
      "nbconvert_exporter": "python",
      "pygments_lexer": "ipython3",
      "version": "3.9.13"
    }
  },
  "nbformat": 4,
  "nbformat_minor": 5
}
